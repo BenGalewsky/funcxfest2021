{
 "cells": [
  {
   "cell_type": "markdown",
   "metadata": {
    "collapsed": true,
    "slideshow": {
     "slide_type": "slide"
    }
   },
   "source": [
    "# Setting up Kubernetes Endpoints\n",
    "***\n",
    "Ben Galewsky, Sr. Research Programmer\n",
    "\n",
    "National Center for Supercomputing Applications\n",
    "\n",
    "University of Illinois Urbana Champaign\n",
    "\n"
   ]
  },
  {
   "cell_type": "markdown",
   "metadata": {
    "slideshow": {
     "slide_type": "slide"
    }
   },
   "source": [
    "# What is Kubernetes?\n",
    "> Kubernetes, also known as K8s, is an open-source system for automating deployment, scaling, and management of <font color=\"red\">*containerized*</font> applications.\n",
    "- Deploy Docker Containers\n",
    "- Automatically scale up and down according to need\n",
    "\n"
   ]
  },
  {
   "cell_type": "markdown",
   "metadata": {
    "slideshow": {
     "slide_type": "slide"
    }
   },
   "source": [
    "# How are Applications Deployed?\n",
    "We use [Helm](https://helm.sh), a package manager for helm applications.\n",
    "\n",
    "- Declarative description of the application\n",
    "- Uses a templating language with user provided configuaration values\n",
    "- Packages are served out of public repositories\n"
   ]
  },
  {
   "cell_type": "markdown",
   "metadata": {
    "slideshow": {
     "slide_type": "slide"
    }
   },
   "source": [
    "# FuncX Kubernetes Endpoint\n",
    "[Helm Chart](https://github.com/funcx-faas/funcX/blob/main/helm/README.md) takes a handful of values. Most of the defaults can be used in the majority of deployments. Some key values to provide:\n",
    "- image.tag\n",
    "- workerImage\n",
    "- minBlocks\n",
    "- maxBlocks\n",
    "- endpointUUID"
   ]
  },
  {
   "cell_type": "markdown",
   "metadata": {
    "slideshow": {
     "slide_type": "slide"
    }
   },
   "source": [
    "# Authentication\n",
    "Your funcX tokens are securly mounted in the cluster as a Kubernetes Secret.\n",
    "\n",
    "Full instructions in the [Endpoint Helm Chart README](https://github.com/funcx-faas/funcX/blob/main/helm/README.md#how-to-use)"
   ]
  },
  {
   "cell_type": "markdown",
   "metadata": {
    "slideshow": {
     "slide_type": "slide"
    }
   },
   "source": [
    "# Today's Demonstration\n",
    "Use case: want to be able to use the GDAL Geospatial Library to compute GIS Stuff. The python GDAL library is not easy to install since it depends on C++ libraries.\n",
    "\n",
    "1. Create a Dockerfile that will run python 3.7 GDAL libraries\n",
    "2. Create a values.yaml file for our specific endpoint\n",
    "3. Deploy the funcx_endpoint helm chart with these values\n",
    "4. Define a function that computes the area of a geomoetry\n",
    "5. Call it!"
   ]
  },
  {
   "cell_type": "markdown",
   "metadata": {
    "slideshow": {
     "slide_type": "subslide"
    }
   },
   "source": [
    "# Dockerfile\n",
    "Based on [thinkWhere Docker Image](https://github.com/thinkWhere/GDAL-Docker) - needed to freshen up the version of Ubuntu it is based on."
   ]
  },
  {
   "cell_type": "code",
   "execution_count": null,
   "metadata": {
    "slideshow": {
     "slide_type": "subslide"
    }
   },
   "outputs": [],
   "source": [
    "FROM python:3.7-buster\n",
    "RUN apt-get update\n",
    "RUN apt-get upgrade -y\n",
    "\n",
    "# Install GDAL dependencies\n",
    "RUN apt-get install -y python3-pip libgdal-dev locales\n",
    "\n",
    "# Ensure locales configured correctly\n",
    "RUN locale-gen en_US.UTF-8\n",
    "ENV LC_ALL='en_US.utf8'\n",
    "\n",
    "# Update C env vars so compiler can find gdal\n",
    "ENV CPLUS_INCLUDE_PATH=/usr/include/gdal\n",
    "ENV C_INCLUDE_PATH=/usr/include/gdal\n",
    "\n",
    "# This will install latest version of GDAL\n",
    "RUN pip3 install GDAL==2.4.2\n"
   ]
  },
  {
   "cell_type": "markdown",
   "metadata": {
    "slideshow": {
     "slide_type": "slide"
    }
   },
   "source": [
    "# Values.yaml\n",
    "This is the configuration used to control the endpoint that is deployed by the helm chart. \n",
    "\n",
    "Specify the docker image to use in the worker, as well as the number of workers that can be scaled up to.\n"
   ]
  },
  {
   "cell_type": "code",
   "execution_count": null,
   "metadata": {
    "slideshow": {
     "slide_type": "subslide"
    }
   },
   "outputs": [],
   "source": [
    "\n",
    "image:\n",
    "  tag: main-3.7  # The endpoint must use the same python version as the worker and the client.\n",
    "\n",
    "\n",
    "# Image to use in the worker\n",
    "workerImage: bengal1/gdal-python:3.7-ubuntu\n",
    "        \n",
    "# This command is run on each worker upon startup. Install the current version of funcX endpoint\n",
    "workerInit: python3 -m pip install funcx-endpoint>=0.3.0\n",
    "    \n",
    "# How many workers do we start with and what is the maximum we can scale up to?\n",
    "minBlocks: 1\n",
    "maxBlocks: 2\n",
    "\n",
    "# If we want to keep a UUID for this endpoint from an earlier deployment set it here.\n",
    "endpointUUID:\n",
    "\n",
    "\n",
    "detachEndpoint: true\n",
    "workerNamespace: default"
   ]
  },
  {
   "cell_type": "markdown",
   "metadata": {
    "slideshow": {
     "slide_type": "slide"
    }
   },
   "source": [
    "# Live Demo\n",
    "Deploying a Kubernetes endpoint using helm chart"
   ]
  },
  {
   "cell_type": "markdown",
   "metadata": {
    "slideshow": {
     "slide_type": "slide"
    }
   },
   "source": [
    "# Exercise the Endpoint\n",
    "The following cells will connect to FuncX and register a function that computes the area of a GDAL polygon"
   ]
  },
  {
   "cell_type": "code",
   "execution_count": 55,
   "metadata": {
    "slideshow": {
     "slide_type": "-"
    }
   },
   "outputs": [],
   "source": [
    "from funcx.sdk.client import FuncXClient, TaskPending\n",
    "\n",
    "fxc = FuncXClient()\n",
    "\n",
    "gdal_endpoint = '' # Paste the endpoint UUID from the deployment \n"
   ]
  },
  {
   "cell_type": "code",
   "execution_count": 56,
   "metadata": {},
   "outputs": [],
   "source": [
    "def compute_area(wkt1):\n",
    "    from osgeo import ogr\n",
    "    poly = ogr.CreateGeometryFromWkt(wkt1)\n",
    "\n",
    "    return poly.GetArea()\n",
    "\n",
    "area_uuid = fxc.register_function(compute_area)"
   ]
  },
  {
   "cell_type": "code",
   "execution_count": null,
   "metadata": {},
   "outputs": [],
   "source": [
    "task_id = fxc.run(endpoint_id=gdal_endpoint, function_id=area_uuid, \n",
    "                  wkt1=\"POLYGON ((1208064.271243039 624154.6783778917, 1208064.271243039 601260.9785661874, 1231345.9998651114 601260.9785661874, 1231345.9998651114 624154.6783778917, 1208064.271243039 624154.6783778917))\")\n",
    "task_id\n",
    "\n"
   ]
  },
  {
   "cell_type": "code",
   "execution_count": null,
   "metadata": {},
   "outputs": [],
   "source": [
    "try:\n",
    "    print(fxc.get_result(task_id))\n",
    "except TaskPending as pending:\n",
    "    print(pending)"
   ]
  },
  {
   "cell_type": "code",
   "execution_count": null,
   "metadata": {},
   "outputs": [],
   "source": []
  }
 ],
 "metadata": {
  "celltoolbar": "Slideshow",
  "kernelspec": {
   "display_name": "Python 3 (ipykernel)",
   "language": "python",
   "name": "python3"
  },
  "language_info": {
   "codemirror_mode": {
    "name": "ipython",
    "version": 3
   },
   "file_extension": ".py",
   "mimetype": "text/x-python",
   "name": "python",
   "nbconvert_exporter": "python",
   "pygments_lexer": "ipython3",
   "version": "3.7.10"
  }
 },
 "nbformat": 4,
 "nbformat_minor": 1
}